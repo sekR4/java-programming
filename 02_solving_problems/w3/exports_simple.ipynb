{
 "cells": [
  {
   "cell_type": "code",
   "execution_count": 1,
   "id": "viral-place",
   "metadata": {},
   "outputs": [],
   "source": [
    "import pandas as pd"
   ]
  },
  {
   "cell_type": "code",
   "execution_count": 73,
   "id": "elder-kansas",
   "metadata": {},
   "outputs": [],
   "source": [
    "exports = pd.read_csv(\"exports/exportdata.csv\")"
   ]
  },
  {
   "cell_type": "code",
   "execution_count": 76,
   "id": "indie-orlando",
   "metadata": {},
   "outputs": [
    {
     "data": {
      "text/plain": [
       "17"
      ]
     },
     "execution_count": 76,
     "metadata": {},
     "output_type": "execute_result"
    }
   ],
   "source": [
    "len(exports[exports.Exports.str.contains('cocoa')])"
   ]
  },
  {
   "cell_type": "code",
   "execution_count": 14,
   "id": "clear-senator",
   "metadata": {},
   "outputs": [
    {
     "data": {
      "text/html": [
       "<div>\n",
       "<style scoped>\n",
       "    .dataframe tbody tr th:only-of-type {\n",
       "        vertical-align: middle;\n",
       "    }\n",
       "\n",
       "    .dataframe tbody tr th {\n",
       "        vertical-align: top;\n",
       "    }\n",
       "\n",
       "    .dataframe thead th {\n",
       "        text-align: right;\n",
       "    }\n",
       "</style>\n",
       "<table border=\"1\" class=\"dataframe\">\n",
       "  <thead>\n",
       "    <tr style=\"text-align: right;\">\n",
       "      <th></th>\n",
       "      <th>TimeEST</th>\n",
       "      <th>TemperatureF</th>\n",
       "      <th>Dew PointF</th>\n",
       "      <th>Humidity</th>\n",
       "      <th>Sea Level PressureIn</th>\n",
       "      <th>VisibilityMPH</th>\n",
       "      <th>Wind Direction</th>\n",
       "      <th>Wind SpeedMPH</th>\n",
       "      <th>Gust SpeedMPH</th>\n",
       "      <th>PrecipitationIn</th>\n",
       "      <th>Events</th>\n",
       "      <th>Conditions</th>\n",
       "      <th>WindDirDegrees</th>\n",
       "      <th>DateUTC</th>\n",
       "    </tr>\n",
       "  </thead>\n",
       "  <tbody>\n",
       "    <tr>\n",
       "      <th>0</th>\n",
       "      <td>12:51 AM</td>\n",
       "      <td>39.2</td>\n",
       "      <td>33.8</td>\n",
       "      <td>81</td>\n",
       "      <td>30.15</td>\n",
       "      <td>10.0</td>\n",
       "      <td>Calm</td>\n",
       "      <td>Calm</td>\n",
       "      <td>-</td>\n",
       "      <td>NaN</td>\n",
       "      <td>NaN</td>\n",
       "      <td>Clear</td>\n",
       "      <td>0</td>\n",
       "      <td>2012-01-01 05:51:00</td>\n",
       "    </tr>\n",
       "    <tr>\n",
       "      <th>1</th>\n",
       "      <td>1:51 AM</td>\n",
       "      <td>39.2</td>\n",
       "      <td>33.8</td>\n",
       "      <td>81</td>\n",
       "      <td>30.16</td>\n",
       "      <td>10.0</td>\n",
       "      <td>Calm</td>\n",
       "      <td>Calm</td>\n",
       "      <td>-</td>\n",
       "      <td>NaN</td>\n",
       "      <td>NaN</td>\n",
       "      <td>Clear</td>\n",
       "      <td>0</td>\n",
       "      <td>2012-01-01 06:51:00</td>\n",
       "    </tr>\n",
       "    <tr>\n",
       "      <th>2</th>\n",
       "      <td>2:51 AM</td>\n",
       "      <td>39.0</td>\n",
       "      <td>34.0</td>\n",
       "      <td>82</td>\n",
       "      <td>30.15</td>\n",
       "      <td>10.0</td>\n",
       "      <td>Calm</td>\n",
       "      <td>Calm</td>\n",
       "      <td>-</td>\n",
       "      <td>NaN</td>\n",
       "      <td>NaN</td>\n",
       "      <td>Clear</td>\n",
       "      <td>0</td>\n",
       "      <td>2012-01-01 07:51:00</td>\n",
       "    </tr>\n",
       "  </tbody>\n",
       "</table>\n",
       "</div>"
      ],
      "text/plain": [
       "    TimeEST  TemperatureF  Dew PointF  Humidity  Sea Level PressureIn  \\\n",
       "0  12:51 AM          39.2        33.8        81                 30.15   \n",
       "1   1:51 AM          39.2        33.8        81                 30.16   \n",
       "2   2:51 AM          39.0        34.0        82                 30.15   \n",
       "\n",
       "   VisibilityMPH Wind Direction Wind SpeedMPH Gust SpeedMPH  PrecipitationIn  \\\n",
       "0           10.0           Calm          Calm             -              NaN   \n",
       "1           10.0           Calm          Calm             -              NaN   \n",
       "2           10.0           Calm          Calm             -              NaN   \n",
       "\n",
       "   Events Conditions  WindDirDegrees              DateUTC  \n",
       "0     NaN      Clear               0  2012-01-01 05:51:00  \n",
       "1     NaN      Clear               0  2012-01-01 06:51:00  \n",
       "2     NaN      Clear               0  2012-01-01 07:51:00  "
      ]
     },
     "execution_count": 14,
     "metadata": {},
     "output_type": "execute_result"
    }
   ],
   "source": [
    "weather = pd.read_csv(\"nc_weather/2012/weather-2012-01-01.csv\")\n",
    "weather.head(3)"
   ]
  },
  {
   "cell_type": "code",
   "execution_count": 17,
   "id": "novel-things",
   "metadata": {},
   "outputs": [
    {
     "data": {
      "text/html": [
       "<div>\n",
       "<style scoped>\n",
       "    .dataframe tbody tr th:only-of-type {\n",
       "        vertical-align: middle;\n",
       "    }\n",
       "\n",
       "    .dataframe tbody tr th {\n",
       "        vertical-align: top;\n",
       "    }\n",
       "\n",
       "    .dataframe thead th {\n",
       "        text-align: right;\n",
       "    }\n",
       "</style>\n",
       "<table border=\"1\" class=\"dataframe\">\n",
       "  <thead>\n",
       "    <tr style=\"text-align: right;\">\n",
       "      <th></th>\n",
       "      <th>TimeEST</th>\n",
       "      <th>TemperatureF</th>\n",
       "      <th>Dew PointF</th>\n",
       "      <th>Humidity</th>\n",
       "      <th>Sea Level PressureIn</th>\n",
       "      <th>VisibilityMPH</th>\n",
       "      <th>Wind Direction</th>\n",
       "      <th>Wind SpeedMPH</th>\n",
       "      <th>Gust SpeedMPH</th>\n",
       "      <th>PrecipitationIn</th>\n",
       "      <th>Events</th>\n",
       "      <th>Conditions</th>\n",
       "      <th>WindDirDegrees</th>\n",
       "      <th>DateUTC</th>\n",
       "    </tr>\n",
       "  </thead>\n",
       "  <tbody>\n",
       "    <tr>\n",
       "      <th>12</th>\n",
       "      <td>12:51 PM</td>\n",
       "      <td>66.9</td>\n",
       "      <td>37.9</td>\n",
       "      <td>34</td>\n",
       "      <td>29.98</td>\n",
       "      <td>10.0</td>\n",
       "      <td>SSW</td>\n",
       "      <td>17.3</td>\n",
       "      <td>25.3</td>\n",
       "      <td>NaN</td>\n",
       "      <td>NaN</td>\n",
       "      <td>Mostly Cloudy</td>\n",
       "      <td>210</td>\n",
       "      <td>2012-01-01 17:51:00</td>\n",
       "    </tr>\n",
       "    <tr>\n",
       "      <th>14</th>\n",
       "      <td>3:51 PM</td>\n",
       "      <td>66.9</td>\n",
       "      <td>44.1</td>\n",
       "      <td>44</td>\n",
       "      <td>29.87</td>\n",
       "      <td>10.0</td>\n",
       "      <td>SSW</td>\n",
       "      <td>16.1</td>\n",
       "      <td>24.2</td>\n",
       "      <td>NaN</td>\n",
       "      <td>NaN</td>\n",
       "      <td>Mostly Cloudy</td>\n",
       "      <td>200</td>\n",
       "      <td>2012-01-01 20:51:00</td>\n",
       "    </tr>\n",
       "  </tbody>\n",
       "</table>\n",
       "</div>"
      ],
      "text/plain": [
       "     TimeEST  TemperatureF  Dew PointF  Humidity  Sea Level PressureIn  \\\n",
       "12  12:51 PM          66.9        37.9        34                 29.98   \n",
       "14   3:51 PM          66.9        44.1        44                 29.87   \n",
       "\n",
       "    VisibilityMPH Wind Direction Wind SpeedMPH Gust SpeedMPH  PrecipitationIn  \\\n",
       "12           10.0            SSW          17.3          25.3              NaN   \n",
       "14           10.0            SSW          16.1          24.2              NaN   \n",
       "\n",
       "    Events     Conditions  WindDirDegrees              DateUTC  \n",
       "12     NaN  Mostly Cloudy             210  2012-01-01 17:51:00  \n",
       "14     NaN  Mostly Cloudy             200  2012-01-01 20:51:00  "
      ]
     },
     "execution_count": 17,
     "metadata": {},
     "output_type": "execute_result"
    }
   ],
   "source": [
    "weather[weather.TemperatureF==weather.TemperatureF.max()]"
   ]
  },
  {
   "cell_type": "code",
   "execution_count": 2,
   "id": "pointed-bread",
   "metadata": {},
   "outputs": [],
   "source": [
    "import glob\n",
    "from pathlib import Path\n",
    "import os"
   ]
  },
  {
   "cell_type": "code",
   "execution_count": 3,
   "id": "historic-butler",
   "metadata": {
    "scrolled": false
   },
   "outputs": [
    {
     "data": {
      "text/html": [
       "<div>\n",
       "<style scoped>\n",
       "    .dataframe tbody tr th:only-of-type {\n",
       "        vertical-align: middle;\n",
       "    }\n",
       "\n",
       "    .dataframe tbody tr th {\n",
       "        vertical-align: top;\n",
       "    }\n",
       "\n",
       "    .dataframe thead th {\n",
       "        text-align: right;\n",
       "    }\n",
       "</style>\n",
       "<table border=\"1\" class=\"dataframe\">\n",
       "  <thead>\n",
       "    <tr style=\"text-align: right;\">\n",
       "      <th></th>\n",
       "      <th>TimeEST</th>\n",
       "      <th>TemperatureF</th>\n",
       "      <th>Dew PointF</th>\n",
       "      <th>Humidity</th>\n",
       "      <th>Sea Level PressureIn</th>\n",
       "      <th>VisibilityMPH</th>\n",
       "      <th>Wind Direction</th>\n",
       "      <th>Wind SpeedMPH</th>\n",
       "      <th>Gust SpeedMPH</th>\n",
       "      <th>PrecipitationIn</th>\n",
       "      <th>Events</th>\n",
       "      <th>Conditions</th>\n",
       "      <th>WindDirDegrees</th>\n",
       "      <th>DateUTC</th>\n",
       "      <th>TimeEDT</th>\n",
       "    </tr>\n",
       "  </thead>\n",
       "  <tbody>\n",
       "    <tr>\n",
       "      <th>0</th>\n",
       "      <td>12:51 AM</td>\n",
       "      <td>43.0</td>\n",
       "      <td>28.0</td>\n",
       "      <td>56.0</td>\n",
       "      <td>30.32</td>\n",
       "      <td>10.0</td>\n",
       "      <td>NNE</td>\n",
       "      <td>4.6</td>\n",
       "      <td>-</td>\n",
       "      <td>NaN</td>\n",
       "      <td>NaN</td>\n",
       "      <td>Clear</td>\n",
       "      <td>30</td>\n",
       "      <td>2012-03-10 05:51:00</td>\n",
       "      <td>NaN</td>\n",
       "    </tr>\n",
       "    <tr>\n",
       "      <th>1</th>\n",
       "      <td>1:51 AM</td>\n",
       "      <td>43.0</td>\n",
       "      <td>26.1</td>\n",
       "      <td>51.0</td>\n",
       "      <td>30.33</td>\n",
       "      <td>10.0</td>\n",
       "      <td>NNW</td>\n",
       "      <td>3.5</td>\n",
       "      <td>-</td>\n",
       "      <td>NaN</td>\n",
       "      <td>NaN</td>\n",
       "      <td>Clear</td>\n",
       "      <td>330</td>\n",
       "      <td>2012-03-10 06:51:00</td>\n",
       "      <td>NaN</td>\n",
       "    </tr>\n",
       "    <tr>\n",
       "      <th>2</th>\n",
       "      <td>2:51 AM</td>\n",
       "      <td>43.0</td>\n",
       "      <td>24.1</td>\n",
       "      <td>47.0</td>\n",
       "      <td>30.34</td>\n",
       "      <td>10.0</td>\n",
       "      <td>North</td>\n",
       "      <td>4.6</td>\n",
       "      <td>-</td>\n",
       "      <td>NaN</td>\n",
       "      <td>NaN</td>\n",
       "      <td>Clear</td>\n",
       "      <td>360</td>\n",
       "      <td>2012-03-10 07:51:00</td>\n",
       "      <td>NaN</td>\n",
       "    </tr>\n",
       "  </tbody>\n",
       "</table>\n",
       "</div>"
      ],
      "text/plain": [
       "    TimeEST  TemperatureF  Dew PointF  Humidity  Sea Level PressureIn  \\\n",
       "0  12:51 AM          43.0        28.0      56.0                 30.32   \n",
       "1   1:51 AM          43.0        26.1      51.0                 30.33   \n",
       "2   2:51 AM          43.0        24.1      47.0                 30.34   \n",
       "\n",
       "   VisibilityMPH Wind Direction Wind SpeedMPH Gust SpeedMPH  PrecipitationIn  \\\n",
       "0           10.0            NNE           4.6             -              NaN   \n",
       "1           10.0            NNW           3.5             -              NaN   \n",
       "2           10.0          North           4.6             -              NaN   \n",
       "\n",
       "  Events Conditions  WindDirDegrees              DateUTC TimeEDT  \n",
       "0    NaN      Clear              30  2012-03-10 05:51:00     NaN  \n",
       "1    NaN      Clear             330  2012-03-10 06:51:00     NaN  \n",
       "2    NaN      Clear             360  2012-03-10 07:51:00     NaN  "
      ]
     },
     "execution_count": 3,
     "metadata": {},
     "output_type": "execute_result"
    }
   ],
   "source": [
    "csvs = []\n",
    "\n",
    "for n in range(2,6):\n",
    "    csvs.extend(glob.glob(os.path.join(f\"nc_weather/201{n}\", \"*.csv\")))\n",
    "    \n",
    "df = pd.concat([pd.read_csv(f) for f in csvs], ignore_index=True)\n",
    "df.head(3)"
   ]
  },
  {
   "cell_type": "code",
   "execution_count": 37,
   "id": "overhead-timer",
   "metadata": {},
   "outputs": [],
   "source": [
    "#pd.to_datetime(df.DateUTC)\n",
    "df[\"DateUTC\"] = pd.to_datetime(df.DateUTC, format=\"%Y-%m-%d\")"
   ]
  },
  {
   "cell_type": "code",
   "execution_count": 38,
   "id": "double-ecology",
   "metadata": {},
   "outputs": [],
   "source": [
    "datefrom = pd.to_datetime(\"2014-01-01\")\n",
    "dateto = pd.to_datetime(\"2014-01-03\")\n",
    "\n",
    "mask1 = df[\"DateUTC\"].dt.date >= datefrom\n",
    "mask2 = df[\"DateUTC\"].dt.date <= dateto\n",
    "\n",
    "tmp = df[mask1 & mask2][\"DateUTC\"].dt.date.unique()"
   ]
  },
  {
   "cell_type": "code",
   "execution_count": 39,
   "id": "lightweight-bones",
   "metadata": {},
   "outputs": [
    {
     "name": "stdout",
     "output_type": "stream",
     "text": [
      "30.0\n",
      "37.0\n",
      "23.0\n"
     ]
    }
   ],
   "source": [
    "for day in tmp:\n",
    "    print(df[df[\"DateUTC\"].dt.date == day].TemperatureF.min()) "
   ]
  },
  {
   "cell_type": "code",
   "execution_count": 44,
   "id": "instructional-fields",
   "metadata": {},
   "outputs": [],
   "source": [
    "tmp = df[df[\"DateUTC\"].dt.date == pd.to_datetime(\"2014-05-01\")]#, format=\"%Y-%m-%d\")]"
   ]
  },
  {
   "cell_type": "code",
   "execution_count": 46,
   "id": "convinced-galaxy",
   "metadata": {},
   "outputs": [
    {
     "data": {
      "text/plain": [
       "68.0"
      ]
     },
     "execution_count": 46,
     "metadata": {},
     "output_type": "execute_result"
    }
   ],
   "source": [
    "tmp.TemperatureF.min()"
   ]
  },
  {
   "cell_type": "code",
   "execution_count": 53,
   "id": "further-process",
   "metadata": {},
   "outputs": [
    {
     "data": {
      "text/plain": [
       "7.0"
      ]
     },
     "execution_count": 53,
     "metadata": {},
     "output_type": "execute_result"
    }
   ],
   "source": [
    "df[(df[\"DateUTC\"].dt.year == 2014) & (df.TemperatureF > -9999)].TemperatureF.min()"
   ]
  },
  {
   "cell_type": "code",
   "execution_count": 54,
   "id": "painful-kingdom",
   "metadata": {},
   "outputs": [],
   "source": [
    "tmp = df[df[\"DateUTC\"].dt.date == pd.to_datetime(\"2014-04-01\")]"
   ]
  },
  {
   "cell_type": "code",
   "execution_count": 56,
   "id": "emotional-three",
   "metadata": {},
   "outputs": [
    {
     "data": {
      "text/plain": [
       "27844   2014-04-01 10:51:00\n",
       "Name: DateUTC, dtype: datetime64[ns]"
      ]
     },
     "execution_count": 56,
     "metadata": {},
     "output_type": "execute_result"
    }
   ],
   "source": [
    "tmp[tmp.TemperatureF == tmp.TemperatureF.min()].DateUTC"
   ]
  },
  {
   "cell_type": "code",
   "execution_count": 79,
   "id": "careful-coach",
   "metadata": {},
   "outputs": [],
   "source": [
    "csv = pd.read_csv(\"nc_weather/2014/weather-2014-07-22.csv\")"
   ]
  },
  {
   "cell_type": "code",
   "execution_count": 80,
   "id": "collectible-armor",
   "metadata": {},
   "outputs": [
    {
     "data": {
      "text/plain": [
       "21    2014-07-22 20:51:00\n",
       "22    2014-07-22 21:51:00\n",
       "Name: DateUTC, dtype: object"
      ]
     },
     "execution_count": 80,
     "metadata": {},
     "output_type": "execute_result"
    }
   ],
   "source": [
    "csv[csv.Humidity==csv.Humidity.min()].DateUTC"
   ]
  },
  {
   "cell_type": "code",
   "execution_count": 81,
   "id": "representative-referral",
   "metadata": {},
   "outputs": [],
   "source": [
    "csvs = []\n",
    "csvs.extend(glob.glob(os.path.join(f\"nc_weather/2013\", \"*.csv\")))"
   ]
  },
  {
   "cell_type": "code",
   "execution_count": 82,
   "id": "enhanced-breath",
   "metadata": {},
   "outputs": [],
   "source": [
    "df2013 = pd.concat([pd.read_csv(f) for f in csvs], ignore_index=True)"
   ]
  },
  {
   "cell_type": "code",
   "execution_count": 83,
   "id": "bored-meeting",
   "metadata": {},
   "outputs": [
    {
     "data": {
      "text/plain": [
       "16"
      ]
     },
     "execution_count": 83,
     "metadata": {},
     "output_type": "execute_result"
    }
   ],
   "source": [
    "df2013.Humidity.min()"
   ]
  },
  {
   "cell_type": "code",
   "execution_count": 91,
   "id": "choice-relief",
   "metadata": {
    "scrolled": true
   },
   "outputs": [
    {
     "data": {
      "text/html": [
       "<div>\n",
       "<style scoped>\n",
       "    .dataframe tbody tr th:only-of-type {\n",
       "        vertical-align: middle;\n",
       "    }\n",
       "\n",
       "    .dataframe tbody tr th {\n",
       "        vertical-align: top;\n",
       "    }\n",
       "\n",
       "    .dataframe thead th {\n",
       "        text-align: right;\n",
       "    }\n",
       "</style>\n",
       "<table border=\"1\" class=\"dataframe\">\n",
       "  <thead>\n",
       "    <tr style=\"text-align: right;\">\n",
       "      <th></th>\n",
       "      <th>TemperatureF</th>\n",
       "      <th>DateUTC</th>\n",
       "    </tr>\n",
       "  </thead>\n",
       "  <tbody>\n",
       "    <tr>\n",
       "      <th>5141</th>\n",
       "      <td>19.0</td>\n",
       "      <td>2013-11-25 10:51:00</td>\n",
       "    </tr>\n",
       "    <tr>\n",
       "      <th>5142</th>\n",
       "      <td>19.0</td>\n",
       "      <td>2013-11-25 11:51:00</td>\n",
       "    </tr>\n",
       "    <tr>\n",
       "      <th>5762</th>\n",
       "      <td>19.0</td>\n",
       "      <td>2013-01-23 10:51:00</td>\n",
       "    </tr>\n",
       "    <tr>\n",
       "      <th>5763</th>\n",
       "      <td>19.0</td>\n",
       "      <td>2013-01-23 11:51:00</td>\n",
       "    </tr>\n",
       "    <tr>\n",
       "      <th>5764</th>\n",
       "      <td>19.0</td>\n",
       "      <td>2013-01-23 12:51:00</td>\n",
       "    </tr>\n",
       "  </tbody>\n",
       "</table>\n",
       "</div>"
      ],
      "text/plain": [
       "      TemperatureF              DateUTC\n",
       "5141          19.0  2013-11-25 10:51:00\n",
       "5142          19.0  2013-11-25 11:51:00\n",
       "5762          19.0  2013-01-23 10:51:00\n",
       "5763          19.0  2013-01-23 11:51:00\n",
       "5764          19.0  2013-01-23 12:51:00"
      ]
     },
     "execution_count": 91,
     "metadata": {},
     "output_type": "execute_result"
    }
   ],
   "source": [
    "df2013[\n",
    "    (df2013.TemperatureF > -9999.0) & (df2013.TemperatureF==df2013.TemperatureF.min())\n",
    "][[\"TemperatureF\",\"DateUTC\"]]"
   ]
  },
  {
   "cell_type": "code",
   "execution_count": 87,
   "id": "understanding-commercial",
   "metadata": {},
   "outputs": [],
   "source": [
    "csv = pd.read_csv(\"nc_weather/2013/weather-2013-09-02.csv\")"
   ]
  },
  {
   "cell_type": "code",
   "execution_count": 88,
   "id": "stable-summer",
   "metadata": {},
   "outputs": [
    {
     "data": {
      "text/plain": [
       "77.12962962962963"
      ]
     },
     "execution_count": 88,
     "metadata": {},
     "output_type": "execute_result"
    }
   ],
   "source": [
    "csv[csv.TemperatureF > -9999.0].TemperatureF.mean()"
   ]
  },
  {
   "cell_type": "code",
   "execution_count": 72,
   "id": "moderate-haiti",
   "metadata": {},
   "outputs": [
    {
     "data": {
      "text/plain": [
       "56.0"
      ]
     },
     "execution_count": 72,
     "metadata": {},
     "output_type": "execute_result"
    }
   ],
   "source": [
    "csv[(csv.TemperatureF > -9999.0) & (csv.Humidity>=80)].TemperatureF.mean()"
   ]
  }
 ],
 "metadata": {
  "kernelspec": {
   "display_name": "Python 3",
   "language": "python",
   "name": "python3"
  },
  "language_info": {
   "codemirror_mode": {
    "name": "ipython",
    "version": 3
   },
   "file_extension": ".py",
   "mimetype": "text/x-python",
   "name": "python",
   "nbconvert_exporter": "python",
   "pygments_lexer": "ipython3",
   "version": "3.7.9"
  }
 },
 "nbformat": 4,
 "nbformat_minor": 5
}
